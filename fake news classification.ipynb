{
  "cells": [
    {
      "cell_type": "markdown",
      "source": [
        "# Clone proyek Github untuk mendapatkan dataset"
      ],
      "metadata": {
        "id": "pfxAO11ms24B"
      }
    },
    {
      "cell_type": "code",
      "source": [
        "# If run in google colab\n",
        "!git clone https://github.com/ziszz/fake-news-classification.git"
      ],
      "metadata": {
        "id": "VjsRSCwtRQU3"
      },
      "execution_count": null,
      "outputs": []
    },
    {
      "cell_type": "markdown",
      "source": [
        "# Install library requirements"
      ],
      "metadata": {
        "id": "oKL29_8lsmGB"
      }
    },
    {
      "cell_type": "code",
      "source": [
        "# !pip install -r /content/fake-news-classification/requirements.txt"
      ],
      "metadata": {
        "id": "s2uwaaZSRUSB"
      },
      "execution_count": null,
      "outputs": []
    },
    {
      "cell_type": "markdown",
      "source": [
        "# Import library yang dibutuhkan"
      ],
      "metadata": {
        "id": "5t9_kVRfs-0z"
      }
    },
    {
      "cell_type": "code",
      "execution_count": null,
      "metadata": {
        "id": "6nmZPji5UghG"
      },
      "outputs": [],
      "source": [
        "import os\n",
        "import pandas as pd\n",
        "import tensorflow_model_analysis as tfma\n",
        "from tfx.components import (CsvExampleGen, StatisticsGen, SchemaGen, \n",
        "                            ExampleValidator, Transform, Trainer, Tuner, \n",
        "                            Evaluator, Pusher)\n",
        "from tfx.proto import example_gen_pb2, trainer_pb2, pusher_pb2\n",
        "from tfx.orchestration.experimental.interactive.interactive_context import InteractiveContext\n",
        "from tfx.dsl.components.common.resolver import Resolver\n",
        "from tfx.dsl.input_resolution.strategies.latest_blessed_model_strategy import LatestBlessedModelStrategy\n",
        "from tfx.types import Channel\n",
        "from tfx.types.standard_artifacts import Model, ModelBlessing"
      ]
    },
    {
      "cell_type": "markdown",
      "source": [
        "# Set Variabel untuk directory pipeline"
      ],
      "metadata": {
        "id": "mEw03wf9uAUk"
      }
    },
    {
      "cell_type": "code",
      "execution_count": null,
      "metadata": {
        "id": "b56qTdyjRFZG"
      },
      "outputs": [],
      "source": [
        "PIPELINE_ROOT = \"pipeline\"\n",
        "SCHEMA_PIPELINE_NAME = \"fake-news-tfdv-schema\"\n",
        "SERVING_MODEL_DIR = \"serving_model_dir\"\n",
        "\n",
        "# METADATA_PATH = os.path.join(\"metadata\", PIPELINE_NAME, \"metadata.db\")"
      ]
    },
    {
      "cell_type": "markdown",
      "source": [
        "# Load Dataset"
      ],
      "metadata": {
        "id": "my4hOde_tGes"
      }
    },
    {
      "cell_type": "code",
      "execution_count": null,
      "metadata": {
        "id": "G-HxgT-KRFZH"
      },
      "outputs": [],
      "source": [
        "# If run in google colab\n",
        "real_df = pd.read_csv(\"/content/fake-news-classification/data/True.csv\")\n",
        "\n",
        "# If run in local\n",
        "# real_df = pd.read_csv(\"data/True.csv\")\n",
        "\n",
        "real_df"
      ]
    },
    {
      "cell_type": "code",
      "execution_count": null,
      "metadata": {
        "id": "t6IN2X8wRFZI"
      },
      "outputs": [],
      "source": [
        "# If run in google colab\n",
        "fake_df = pd.read_csv(\"/content/fake-news-classification/data/Fake.csv\")\n",
        "\n",
        "# If run in local\n",
        "# fake_df = pd.read_csv(\"data/Fake.csv\")\n",
        "\n",
        "fake_df"
      ]
    },
    {
      "cell_type": "markdown",
      "source": [
        "# Menggabungkan Dataset\n",
        "Karena dataset untuk fake news dan real news dipisah, maka harus dilakukan penggabungan terlebih dahulu sebelum data digunakan untuk processing dan pelatihan."
      ],
      "metadata": {
        "id": "mS-jXGcOtNE8"
      }
    },
    {
      "cell_type": "code",
      "execution_count": null,
      "metadata": {
        "id": "Vac8OnrFRFZJ"
      },
      "outputs": [],
      "source": [
        "data_path = \"data\"\n",
        "\n",
        "real_df[\"class\"] = 1\n",
        "fake_df[\"class\"] = 0\n",
        "\n",
        "df = pd.concat([real_df, fake_df], axis=0)\n",
        "df = df.drop([\"title\", \"date\", \"subject\"], axis=1)\n",
        "df = df.rename(columns={\"class\": \"is_real\"})\n",
        "\n",
        "# If run in google colab\n",
        "if not os.path.exists(data_path):\n",
        "    os.makedirs(data_path)\n",
        "\n",
        "df.to_csv(os.path.join(data_path, \"news.csv\"), index=False)\n",
        "\n",
        "# If run in local\n",
        "# df.to_csv(\"data/csv/news.csv\", index=False)"
      ]
    },
    {
      "cell_type": "code",
      "execution_count": null,
      "metadata": {
        "id": "Vu5yxh9lRFZK"
      },
      "outputs": [],
      "source": [
        "# If run in google colab\n",
        "DATA_ROOT = \"data\"\n",
        "\n",
        "# If run in local\n",
        "# DATA ROOT = \"data/csv\""
      ]
    },
    {
      "cell_type": "code",
      "execution_count": null,
      "metadata": {
        "id": "GB6VcqjfRFZL"
      },
      "outputs": [],
      "source": [
        "interactive_context = InteractiveContext(pipeline_root=PIPELINE_ROOT)"
      ]
    },
    {
      "cell_type": "markdown",
      "source": [
        "# Load dataset menggunakan Example Gen\n",
        "Load data yang telah digabungkan sebelumnya menggunakan Example Gen pada machine learning pipeline"
      ],
      "metadata": {
        "id": "aw01nC9-teRe"
      }
    },
    {
      "cell_type": "code",
      "execution_count": null,
      "metadata": {
        "id": "U35u-2x4RFZM"
      },
      "outputs": [],
      "source": [
        "output = example_gen_pb2.Output(\n",
        "    split_config=example_gen_pb2.SplitConfig(splits=[\n",
        "        example_gen_pb2.SplitConfig.Split(name=\"train\", hash_buckets=9),\n",
        "        example_gen_pb2.SplitConfig.Split(name=\"eval\", hash_buckets=1),\n",
        "    ])\n",
        ")\n",
        "\n",
        "example_gen = CsvExampleGen(input_base=DATA_ROOT, output_config=output)\n",
        "interactive_context.run(example_gen)"
      ]
    },
    {
      "cell_type": "markdown",
      "source": [
        "# Membuat summary statistic pada dataset"
      ],
      "metadata": {
        "id": "6MGti8b8u062"
      }
    },
    {
      "cell_type": "code",
      "execution_count": null,
      "metadata": {
        "id": "bMfxXPVcRFZO"
      },
      "outputs": [],
      "source": [
        "statistics_gen = StatisticsGen(\n",
        "    examples=example_gen.outputs[\"examples\"]\n",
        ")\n",
        "interactive_context.run(statistics_gen)"
      ]
    },
    {
      "cell_type": "code",
      "execution_count": null,
      "metadata": {
        "id": "ytlLR7LeRFZP"
      },
      "outputs": [],
      "source": [
        "interactive_context.show(statistics_gen.outputs[\"statistics\"])"
      ]
    },
    {
      "cell_type": "markdown",
      "source": [
        "# Membuat data schema"
      ],
      "metadata": {
        "id": "XWwECImXu_D3"
      }
    },
    {
      "cell_type": "code",
      "execution_count": null,
      "metadata": {
        "id": "7h58EdHaRFZQ"
      },
      "outputs": [],
      "source": [
        "schema_gen = SchemaGen(\n",
        "    statistics=statistics_gen.outputs[\"statistics\"]\n",
        ")\n",
        "interactive_context.run(schema_gen)"
      ]
    },
    {
      "cell_type": "code",
      "execution_count": null,
      "metadata": {
        "id": "xR3MLDXnRFZR"
      },
      "outputs": [],
      "source": [
        "interactive_context.show(schema_gen.outputs[\"schema\"])"
      ]
    },
    {
      "cell_type": "markdown",
      "source": [
        "# Membuat Validator\n",
        "Melakukan validator dengan mendeteksi anomali pada data berdasarkan summary statistic dan schema pada data"
      ],
      "metadata": {
        "id": "u7JN1WZcvD9a"
      }
    },
    {
      "cell_type": "code",
      "execution_count": null,
      "metadata": {
        "id": "oNnR5OduRFZS"
      },
      "outputs": [],
      "source": [
        "example_validator = ExampleValidator(\n",
        "    statistics=statistics_gen.outputs[\"statistics\"],\n",
        "    schema=schema_gen.outputs[\"schema\"],\n",
        ")\n",
        "interactive_context.run(example_validator)"
      ]
    },
    {
      "cell_type": "code",
      "execution_count": null,
      "metadata": {
        "id": "PlHZW4aiRFZW"
      },
      "outputs": [],
      "source": [
        "interactive_context.show(example_validator.outputs[\"anomalies\"])"
      ]
    },
    {
      "cell_type": "markdown",
      "source": [
        "# Preprocessing Data\n",
        "Processing yang dilakukan hanya untuk merubah nama feature dan label yang telah di transform menjadi text_xf, is_real_xf, dan transform feature kedalam format lowercase string dan untuk casting label kedalam format int64 untuk memastikan tipe data pada label"
      ],
      "metadata": {
        "id": "1MLJjuRWvXNh"
      }
    },
    {
      "cell_type": "code",
      "execution_count": null,
      "metadata": {
        "id": "2z1EFy8QRFZX"
      },
      "outputs": [],
      "source": [
        "TRANSFORM_MODULE_FILE = \"news_transform.py\""
      ]
    },
    {
      "cell_type": "code",
      "execution_count": null,
      "metadata": {
        "id": "-3UjZradRFZX"
      },
      "outputs": [],
      "source": [
        "%%writefile {TRANSFORM_MODULE_FILE}\n",
        "import string\n",
        "import tensorflow as tf\n",
        "import tensorflow_transform as tft\n",
        "\n",
        "LABEL_KEY = \"is_real\"\n",
        "FEATURE_KEY = \"text\"\n",
        "\n",
        "\n",
        "def transformed_name(key):\n",
        "    return f\"{key}_xf\"\n",
        "\n",
        "\n",
        "def preprocessing_fn(inputs):\n",
        "    outputs = dict()\n",
        "    \n",
        "    outputs[transformed_name(FEATURE_KEY)] = tf.strings.lower(\n",
        "        inputs[FEATURE_KEY]\n",
        "    )\n",
        "    outputs[transformed_name(LABEL_KEY)] = tf.cast(inputs[LABEL_KEY], tf.int64)\n",
        "    \n",
        "    return outputs"
      ]
    },
    {
      "cell_type": "code",
      "execution_count": null,
      "metadata": {
        "id": "7vYJZxTxRFZY"
      },
      "outputs": [],
      "source": [
        "transform = Transform(\n",
        "    examples=example_gen.outputs[\"examples\"],\n",
        "    schema=schema_gen.outputs[\"schema\"],\n",
        "    module_file=os.path.abspath(TRANSFORM_MODULE_FILE)\n",
        ")\n",
        "interactive_context.run(transform)"
      ]
    },
    {
      "cell_type": "markdown",
      "source": [
        "# Tuner Hyperparameter\n",
        "Melakukan tuning hyperparameter pada arsitektur model yang digunakan untuk mendapatkan hyperparameter terbaik."
      ],
      "metadata": {
        "id": "5kz7fse6v72F"
      }
    },
    {
      "cell_type": "code",
      "execution_count": null,
      "metadata": {
        "id": "Ktwr9e6iRFZc"
      },
      "outputs": [],
      "source": [
        "TUNER_MODULE_FILE = \"news_tuner.py\""
      ]
    },
    {
      "cell_type": "code",
      "execution_count": null,
      "metadata": {
        "id": "xsZPqHXVRFZc"
      },
      "outputs": [],
      "source": [
        "%%writefile {TUNER_MODULE_FILE}\n",
        "import keras_tuner as kt\n",
        "import tensorflow as tf\n",
        "import tensorflow_transform as tft\n",
        "from typing import NamedTuple, Dict, Text, Any\n",
        "from keras_tuner.engine import base_tuner\n",
        "from tensorflow.keras import layers\n",
        "from tfx.components.trainer.fn_args_utils import FnArgs\n",
        "\n",
        "\n",
        "LABEL_KEY = \"is_real\"\n",
        "FEATURE_KEY = \"text\"\n",
        "NUM_EPOCHS = 5\n",
        "\n",
        "TunerFnResult = NamedTuple(\"TunerFnResult\", [\n",
        "    (\"tuner\", base_tuner.BaseTuner),\n",
        "    (\"fit_kwargs\", Dict[Text, Any]),\n",
        "])\n",
        "\n",
        "early_stopping_callback = tf.keras.callbacks.EarlyStopping(\n",
        "    monitor=\"val_binary_accuracy\",\n",
        "    mode=\"max\",\n",
        "    verbose=1,\n",
        "    patience=10,\n",
        ")\n",
        "\n",
        "\n",
        "def transformed_name(key):\n",
        "    return f\"{key}_xf\"\n",
        "\n",
        "\n",
        "def gzip_reader_fn(filenames):\n",
        "    return tf.data.TFRecordDataset(filenames, compression_type=\"GZIP\")\n",
        "\n",
        "\n",
        "def input_fn(file_pattern, tf_transform_output, num_epochs, batch_size=64):\n",
        "    transform_feature_spec = (\n",
        "        tf_transform_output.transformed_feature_spec().copy()\n",
        "    )\n",
        "    \n",
        "    dataset = tf.data.experimental.make_batched_features_dataset(\n",
        "        file_pattern=file_pattern,\n",
        "        batch_size=batch_size,\n",
        "        features=transform_feature_spec,\n",
        "        reader=gzip_reader_fn,\n",
        "        num_epochs=num_epochs,\n",
        "        label_key=transformed_name(LABEL_KEY),\n",
        "    )\n",
        "    \n",
        "    return dataset\n",
        "\n",
        "\n",
        "def model_builder(hp, vectorizer_layer):\n",
        "    num_hidden_layers = hp.Choice(\n",
        "        \"num_hidden_layers\", values=[1, 2]\n",
        "    )\n",
        "    embed_dims = hp.Int(\n",
        "        \"embed_dims\", min_value=16, max_value=128, step=32\n",
        "    )\n",
        "    lstm_units= hp.Int(\n",
        "        \"lstm_units\", min_value=32, max_value=128, step=32\n",
        "    )\n",
        "    dense_units = hp.Int(\n",
        "        \"dense_units\", min_value=32, max_value=256, step=32\n",
        "    )\n",
        "    dropout_rate = hp.Float(\n",
        "        \"dropout_rate\", min_value=0.1, max_value=0.5, step=0.1\n",
        "    )\n",
        "    learning_rate = hp.Choice(\n",
        "        \"learning_rate\", values=[1e-2, 1e-3, 1e-4]\n",
        "    )\n",
        "\n",
        "    inputs = tf.keras.Input(\n",
        "        shape=(1,), name=transformed_name(FEATURE_KEY), dtype=tf.string\n",
        "    )\n",
        "    \n",
        "    x = vectorizer_layer(inputs)\n",
        "    x = layers.Embedding(input_dim=5000, output_dim=embed_dims)(x)\n",
        "    x = layers.Bidirectional(layers.LSTM(lstm_units))(x)\n",
        "\n",
        "    for _ in range(num_hidden_layers):\n",
        "        x = layers.Dense(dense_units, activation=tf.nn.relu)(x)\n",
        "        x = layers.Dropout(dropout_rate)(x)\n",
        "    \n",
        "    outputs = layers.Dense(1, activation=tf.nn.sigmoid)(x)\n",
        "    \n",
        "    model = tf.keras.Model(inputs=inputs, outputs=outputs)\n",
        "\n",
        "    model.compile(\n",
        "        optimizer=tf.keras.optimizers.Adam(learning_rate=learning_rate),\n",
        "        loss=tf.keras.losses.BinaryCrossentropy(from_logits=True),\n",
        "        metrics=[\"binary_accuracy\"],\n",
        "    )\n",
        "    \n",
        "    return model\n",
        "\n",
        "\n",
        "def tuner_fn(fn_args: FnArgs):\n",
        "    tf_transform_output = tft.TFTransformOutput(fn_args.transform_graph_path)\n",
        "    \n",
        "    train_set = input_fn(\n",
        "        fn_args.train_files[0], tf_transform_output, NUM_EPOCHS\n",
        "    )\n",
        "    eval_set = input_fn(\n",
        "        fn_args.eval_files[0], tf_transform_output, NUM_EPOCHS\n",
        "    )\n",
        "\n",
        "    vectorizer_dataset = train_set.map(\n",
        "        lambda f, l: f[transformed_name(FEATURE_KEY)]\n",
        "    )\n",
        "\n",
        "    vectorizer_layer = layers.TextVectorization(\n",
        "        max_tokens=5000,\n",
        "        output_mode=\"int\",\n",
        "        output_sequence_length=500,\n",
        "    )\n",
        "    vectorizer_layer.adapt(vectorizer_dataset)\n",
        "    \n",
        "    tuner = kt.Hyperband(\n",
        "        hypermodel=lambda hp: model_builder(hp, vectorizer_layer),\n",
        "        objective=kt.Objective('binary_accuracy', direction='max'),\n",
        "        max_epochs=NUM_EPOCHS,\n",
        "        factor=3,\n",
        "        directory=fn_args.working_dir,\n",
        "        project_name=\"kt_hyperband\",\n",
        "    )\n",
        "    \n",
        "    return TunerFnResult(\n",
        "        tuner=tuner,\n",
        "        fit_kwargs={\n",
        "            \"callbacks\": [early_stopping_callback],\n",
        "            \"x\": train_set,\n",
        "            \"validation_data\": eval_set,\n",
        "            \"steps_per_epoch\": fn_args.train_steps,\n",
        "            \"validation_steps\": fn_args.eval_steps,\n",
        "        },\n",
        "    )"
      ]
    },
    {
      "cell_type": "code",
      "execution_count": null,
      "metadata": {
        "id": "rJo6Zm6oRFZd"
      },
      "outputs": [],
      "source": [
        "tuner = Tuner(\n",
        "    module_file=os.path.abspath(TUNER_MODULE_FILE),\n",
        "    examples=transform.outputs[\"transformed_examples\"],\n",
        "    transform_graph=transform.outputs[\"transform_graph\"],\n",
        "    schema=schema_gen.outputs[\"schema\"],\n",
        "    train_args=trainer_pb2.TrainArgs(splits=[\"train\"], num_steps=800),\n",
        "    eval_args=trainer_pb2.EvalArgs(splits=[\"eval\"], num_steps=400),\n",
        ")\n",
        "interactive_context.run(tuner)"
      ]
    },
    {
      "cell_type": "markdown",
      "source": [
        "# Training Model\n",
        "Melatih model dengan menggunakan hyperparameter yang telah dituning sebelumnya"
      ],
      "metadata": {
        "id": "ZsHfrbu4wKvn"
      }
    },
    {
      "cell_type": "code",
      "execution_count": null,
      "metadata": {
        "id": "ApqoJZ-bRFZZ"
      },
      "outputs": [],
      "source": [
        "TRAINER_MODULE_FILE = \"news_trainer.py\""
      ]
    },
    {
      "cell_type": "code",
      "execution_count": null,
      "metadata": {
        "id": "Ul5fAHUERFZa"
      },
      "outputs": [],
      "source": [
        "%%writefile {TRAINER_MODULE_FILE}\n",
        "import os\n",
        "import tensorflow as tf\n",
        "import tensorflow_transform as tft\n",
        "import tensorflow_hub as hub\n",
        "from tensorflow.keras import layers\n",
        "from tfx.components.trainer.fn_args_utils import FnArgs\n",
        "\n",
        "\n",
        "LABEL_KEY = \"is_real\"\n",
        "FEATURE_KEY = \"text\"\n",
        "\n",
        "\n",
        "def transformed_name(key): \n",
        "    return f\"{key}_xf\"\n",
        "\n",
        "\n",
        "def gzip_reader_fn(filenames):\n",
        "    return tf.data.TFRecordDataset(filenames, compression_type=\"GZIP\")\n",
        "\n",
        "\n",
        "def input_fn(file_pattern, tf_transform_output, num_epochs, batch_size=64):\n",
        "    transform_feature_spec = (\n",
        "        tf_transform_output.transformed_feature_spec().copy()\n",
        "    )\n",
        "    \n",
        "    dataset = tf.data.experimental.make_batched_features_dataset(\n",
        "        file_pattern=file_pattern,\n",
        "        batch_size=batch_size,\n",
        "        features=transform_feature_spec,\n",
        "        reader=gzip_reader_fn,\n",
        "        num_epochs=num_epochs,\n",
        "        label_key=transformed_name(LABEL_KEY),\n",
        "    )\n",
        "    \n",
        "    return dataset\n",
        "\n",
        "\n",
        "def model_builder(vectorizer_layer, hp):\n",
        "    inputs = tf.keras.Input(\n",
        "        shape=(1,), name=transformed_name(FEATURE_KEY), dtype=tf.string\n",
        "    )\n",
        "\n",
        "    x = vectorizer_layer(inputs)\n",
        "    x = layers.Embedding(input_dim=5000, output_dim=hp[\"embed_dims\"])(x)\n",
        "    x = layers.Bidirectional(layers.LSTM(hp[\"lstm_units\"]))(x)\n",
        "\n",
        "    for _ in range(hp[\"num_hidden_layers\"]):\n",
        "        x = layers.Dense(hp[\"dense_units\"], activation=tf.nn.relu)(x)\n",
        "        x = layers.Dropout(hp[\"dropout_rate\"])(x)\n",
        "\n",
        "    outputs = layers.Dense(1, activation=tf.nn.sigmoid)(x)\n",
        "    \n",
        "    model = tf.keras.Model(inputs=inputs, outputs = outputs)\n",
        "\n",
        "    model.compile(\n",
        "        optimizer=tf.keras.optimizers.Adam(learning_rate=hp[\"learning_rate\"]),\n",
        "        loss=tf.keras.losses.BinaryCrossentropy(),\n",
        "        metrics=[tf.keras.metrics.BinaryAccuracy()],\n",
        "    )\n",
        "    \n",
        "    model.summary()\n",
        "    \n",
        "    return model\n",
        "\n",
        "\n",
        "def _get_serve_tf_example_fn(model, tf_transform_output):\n",
        "    model.tft_layer = tf_transform_output.transform_features_layer()\n",
        "    \n",
        "    @tf.function\n",
        "    def serve_tf_examples_fn(serialized_tf_examples):\n",
        "        feature_spec = tf_transform_output.raw_feature_spec()\n",
        "        feature_spec.pop(LABEL_KEY)\n",
        "        \n",
        "        parsed_features = tf.io.parse_example(\n",
        "            serialized_tf_examples, feature_spec\n",
        "        )\n",
        "        transformed_features = model.tft_layer(parsed_features)\n",
        "        \n",
        "        # get predictions using transformed features\n",
        "        return model(transformed_features)\n",
        "    \n",
        "    return serve_tf_examples_fn\n",
        "\n",
        "\n",
        "def run_fn(fn_args: FnArgs):\n",
        "    hp = fn_args.hyperparameters[\"values\"]\n",
        "    log_dir = os.path.join(os.path.dirname(fn_args.serving_model_dir), \"logs\")\n",
        "    \n",
        "    tensorboard_callback = tf.keras.callbacks.TensorBoard(\n",
        "        log_dir=log_dir, update_freq=\"batch\"\n",
        "    )\n",
        "    early_stopping_callback = tf.keras.callbacks.EarlyStopping(\n",
        "        monitor=\"val_binary_accuracy\",\n",
        "        mode=\"max\",\n",
        "        verbose=1,\n",
        "        patience=10,\n",
        "    )\n",
        "    model_checkpoint_callback = tf.keras.callbacks.ModelCheckpoint(\n",
        "        fn_args.serving_model_dir,\n",
        "        monitor=\"val_binary_accuracy\",\n",
        "        mode=\"max\",\n",
        "        verbose=1,\n",
        "        save_best_only=True,\n",
        "    )\n",
        "    callbacks = [\n",
        "        tensorboard_callback, \n",
        "        early_stopping_callback, \n",
        "        model_checkpoint_callback\n",
        "    ]\n",
        "    \n",
        "    tf_transform_output = tft.TFTransformOutput(fn_args.transform_graph_path)\n",
        "    \n",
        "    train_set = input_fn(\n",
        "        fn_args.train_files, tf_transform_output, hp[\"tuner/epochs\"]\n",
        "    )\n",
        "    eval_set = input_fn(\n",
        "        fn_args.eval_files, tf_transform_output, hp[\"tuner/epochs\"]\n",
        "    )\n",
        "    \n",
        "    vectorizer_dataset = train_set.map(\n",
        "        lambda f, l: f[transformed_name(FEATURE_KEY)]\n",
        "    )\n",
        "    \n",
        "    vectorizer_layer = layers.TextVectorization(\n",
        "        max_tokens=5000,\n",
        "        output_mode=\"int\",\n",
        "        output_sequence_length=500,\n",
        "    )\n",
        "    vectorizer_layer.adapt(vectorizer_dataset)\n",
        "\n",
        "    model = model_builder(vectorizer_layer, hp)\n",
        "    \n",
        "    model.fit(\n",
        "        x=train_set,\n",
        "        steps_per_epoch=fn_args.train_steps,\n",
        "        validation_data=eval_set,\n",
        "        validation_steps=fn_args.eval_steps,\n",
        "        callbacks=callbacks,\n",
        "        epochs=hp[\"tuner/epochs\"],\n",
        "        verbose=1,\n",
        "    )\n",
        "    \n",
        "    signatures = {\n",
        "        \"serving_default\": _get_serve_tf_example_fn(\n",
        "            model, tf_transform_output\n",
        "        ).get_concrete_function(\n",
        "            tf.TensorSpec(\n",
        "                shape=[None],\n",
        "                dtype=tf.string,\n",
        "                name=\"examples\",\n",
        "            )\n",
        "        )\n",
        "    }\n",
        "    \n",
        "    model.save(\n",
        "        fn_args.serving_model_dir, \n",
        "        save_format=\"tf\", \n",
        "        signatures=signatures\n",
        "    )"
      ]
    },
    {
      "cell_type": "code",
      "execution_count": null,
      "metadata": {
        "id": "a7-hf2LbRFZb"
      },
      "outputs": [],
      "source": [
        "trainer = Trainer(\n",
        "    module_file=os.path.abspath(TRAINER_MODULE_FILE),\n",
        "    examples=transform.outputs[\"transformed_examples\"],\n",
        "    transform_graph=transform.outputs[\"transform_graph\"],\n",
        "    schema=schema_gen.outputs[\"schema\"],\n",
        "    hyperparameters=tuner.outputs['best_hyperparameters'],\n",
        "    train_args=trainer_pb2.TrainArgs(splits=[\"train\"], num_steps=800),\n",
        "    eval_args=trainer_pb2.EvalArgs(splits=[\"eval\"], num_steps=400),\n",
        ")\n",
        "interactive_context.run(trainer)"
      ]
    },
    {
      "cell_type": "markdown",
      "source": [
        "# Analisis dan Evaluasi Model\n",
        "Menganalisa dan mengevaluasi model dengan menggunakan beberapa metric beserta nilai threshold pada metric tersebut"
      ],
      "metadata": {
        "id": "--qqSov3wYLl"
      }
    },
    {
      "cell_type": "code",
      "execution_count": null,
      "metadata": {
        "id": "RbXTBHFPRFZe"
      },
      "outputs": [],
      "source": [
        "model_resolver = Resolver(\n",
        "    strategy_class=LatestBlessedModelStrategy,\n",
        "    model=Channel(type=Model),\n",
        "    model_blessing=Channel(type=ModelBlessing),\n",
        ").with_id(\"Latest_blessed_model_resolver\")\n",
        "\n",
        "interactive_context.run(model_resolver)"
      ]
    },
    {
      "cell_type": "code",
      "execution_count": null,
      "metadata": {
        "id": "wdt3bQt_RFZf"
      },
      "outputs": [],
      "source": [
        "eval_config = tfma.EvalConfig(\n",
        "    model_specs=[tfma.ModelSpec(label_key=\"is_real\")],\n",
        "    slicing_specs=[tfma.SlicingSpec()],\n",
        "    metrics_specs=[\n",
        "        tfma.MetricsSpec(metrics=[\n",
        "            tfma.MetricConfig(class_name=\"ExampleCount\"),\n",
        "            tfma.MetricConfig(class_name=\"AUC\"),\n",
        "            tfma.MetricConfig(class_name=\"TruePositives\"),\n",
        "            tfma.MetricConfig(class_name=\"FalsePositives\"),\n",
        "            tfma.MetricConfig(class_name=\"TrueNegatives\"),\n",
        "            tfma.MetricConfig(class_name=\"FalseNegatives\"),\n",
        "            tfma.MetricConfig(class_name=\"BinaryAccuracy\", \n",
        "                threshold=tfma.MetricThreshold(\n",
        "                    value_threshold=tfma.GenericValueThreshold(\n",
        "                        lower_bound={\"value\": 0.6},\n",
        "                    ),\n",
        "                    change_threshold=tfma.GenericChangeThreshold(\n",
        "                        direction=tfma.MetricDirection.HIGHER_IS_BETTER,\n",
        "                        absolute={\"value\": 1e-4},\n",
        "                    ),\n",
        "                ),\n",
        "            ),\n",
        "        ])\n",
        "    ]\n",
        ")"
      ]
    },
    {
      "cell_type": "code",
      "execution_count": null,
      "metadata": {
        "id": "8mJPr8OwRFZf"
      },
      "outputs": [],
      "source": [
        "evaluator = Evaluator(\n",
        "    examples=example_gen.outputs[\"examples\"],\n",
        "    model=trainer.outputs[\"model\"],\n",
        "    baseline_model=model_resolver.outputs[\"model\"],\n",
        "    eval_config=eval_config,\n",
        ")\n",
        "interactive_context.run(evaluator)"
      ]
    },
    {
      "cell_type": "code",
      "execution_count": null,
      "metadata": {
        "id": "2xDYcUJkRFZg"
      },
      "outputs": [],
      "source": [
        "eval_result = evaluator.outputs[\"evaluation\"].get()[0].uri\n",
        "tfma_result = tfma.load_eval_result(eval_result)\n",
        "tfma.addons.fairness.view.widget_view.render_fairness_indicator(tfma_result)"
      ]
    },
    {
      "cell_type": "markdown",
      "source": [
        "# Export Model\n",
        "Mengexport model menggunakan komponen pusher pada tensorflow extended agar dapat digunakan untuk proses deployment model."
      ],
      "metadata": {
        "id": "MsIvUAS3xLiB"
      }
    },
    {
      "cell_type": "code",
      "execution_count": null,
      "metadata": {
        "id": "FG5i3QasRFZg"
      },
      "outputs": [],
      "source": [
        "pusher = Pusher(\n",
        "    model=trainer.outputs[\"model\"],\n",
        "    model_blessing=evaluator.outputs[\"blessing\"],\n",
        "    push_destination=pusher_pb2.PushDestination(\n",
        "        filesystem=pusher_pb2.PushDestination.Filesystem(\n",
        "            base_directory=os.path.join(\n",
        "                SERVING_MODEL_DIR, \"fake-news-detection-model\"\n",
        "            ),\n",
        "        )\n",
        "    )\n",
        ")\n",
        "\n",
        "interactive_context.run(pusher)"
      ]
    },
    {
      "cell_type": "markdown",
      "source": [
        "# Compress folder pipelines dan serving_model"
      ],
      "metadata": {
        "id": "pvrQptszxezJ"
      }
    },
    {
      "cell_type": "code",
      "source": [
        "!zip -r /content/zizz1181-pipeline.zip /content/pipeline"
      ],
      "metadata": {
        "id": "bLMFgR-esLBk"
      },
      "execution_count": null,
      "outputs": []
    },
    {
      "cell_type": "code",
      "source": [
        "!zip -r /content/serving_model_dir.zip /content/serving_model_dir/"
      ],
      "metadata": {
        "id": "AB7SQUWLuKPp"
      },
      "execution_count": null,
      "outputs": []
    }
  ],
  "metadata": {
    "accelerator": "GPU",
    "colab": {
      "collapsed_sections": [],
      "name": "SubmissionNLP.ipynb",
      "provenance": []
    },
    "kernelspec": {
      "display_name": "Python 3.9.13 ('base')",
      "language": "python",
      "name": "python3"
    },
    "language_info": {
      "codemirror_mode": {
        "name": "ipython",
        "version": 3
      },
      "file_extension": ".py",
      "mimetype": "text/x-python",
      "name": "python",
      "nbconvert_exporter": "python",
      "pygments_lexer": "ipython3",
      "version": "3.9.13"
    },
    "orig_nbformat": 4,
    "vscode": {
      "interpreter": {
        "hash": "66cec7b311fdd594ef89c9790dd14ca2d44b4d36bfc6c6c38fd8ee89b9f699ad"
      }
    }
  },
  "nbformat": 4,
  "nbformat_minor": 0
}