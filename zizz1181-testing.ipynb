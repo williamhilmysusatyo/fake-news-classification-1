{
 "cells": [
  {
   "cell_type": "code",
   "execution_count": 1,
   "metadata": {},
   "outputs": [],
   "source": [
    "import requests\n",
    "import pandas as pd\n",
    "import json"
   ]
  },
  {
   "cell_type": "code",
   "execution_count": 8,
   "metadata": {},
   "outputs": [],
   "source": [
    "df = pd.read_csv(\"data/csv/news.csv\")\n",
    "test_text = df[\"text\"][0]"
   ]
  },
  {
   "cell_type": "code",
   "execution_count": 78,
   "metadata": {},
   "outputs": [],
   "source": [
    "def make_predictions(input):\n",
    "    endpoint = \"http://localhost:8080/v1/models/fake-news-detection-model:predict\"\n",
    "    response = requests.post(endpoint, json=input, headers={\"content-type\": \"application/json\"})\n",
    "\n",
    "    prediction = response.json()\n",
    "    return prediction\n"
   ]
  },
  {
   "cell_type": "code",
   "execution_count": 87,
   "metadata": {},
   "outputs": [
    {
     "data": {
      "text/plain": [
       "{'error': \"Could not parse example input, value: 'text'\\n\\t [[{{function_node __inference_serve_tf_example_fn_588487}}{{node ParseExample/ParseExampleV2}}]]\"}"
      ]
     },
     "execution_count": 87,
     "metadata": {},
     "output_type": "execute_result"
    }
   ],
   "source": [
    "json_data = {\n",
    "    \"signature_name\": \"serving_default\",\n",
    "    \"inputs\": {\"examples\":\"text\"}\n",
    "}\n",
    "\n",
    "make_predictions(json_data)"
   ]
  }
 ],
 "metadata": {
  "kernelspec": {
   "display_name": "Python 3.9.13 ('base')",
   "language": "python",
   "name": "python3"
  },
  "language_info": {
   "codemirror_mode": {
    "name": "ipython",
    "version": 3
   },
   "file_extension": ".py",
   "mimetype": "text/x-python",
   "name": "python",
   "nbconvert_exporter": "python",
   "pygments_lexer": "ipython3",
   "version": "3.9.13"
  },
  "orig_nbformat": 4,
  "vscode": {
   "interpreter": {
    "hash": "66cec7b311fdd594ef89c9790dd14ca2d44b4d36bfc6c6c38fd8ee89b9f699ad"
   }
  }
 },
 "nbformat": 4,
 "nbformat_minor": 2
}
